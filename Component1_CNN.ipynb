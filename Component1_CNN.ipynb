{
  "nbformat": 4,
  "nbformat_minor": 0,
  "metadata": {
    "colab": {
      "name": "Facial_CNN.ipynb",
      "provenance": [],
      "collapsed_sections": []
    },
    "kernelspec": {
      "name": "python3",
      "display_name": "Python 3"
    },
    "language_info": {
      "name": "python"
    },
    "accelerator": "GPU"
  },
  "cells": [
    {
      "cell_type": "code",
      "execution_count": null,
      "metadata": {
        "id": "Whe3JNfKkP1c"
      },
      "outputs": [],
      "source": [
        "# Importing Required Libraries\n",
        "import torchvision\n",
        "import torch\n",
        "import torchvision.transforms as transforms\n",
        "import os\n",
        "import matplotlib.pyplot as plt\n",
        "import numpy\n",
        "import torch.nn as nn\n",
        "import torch.optim as optim\n",
        "from random import randint\n",
        "import time\n",
        "import glob\n",
        "from torch.autograd import Variable"
      ]
    },
    {
      "cell_type": "code",
      "source": [
        "# Selcting Device CPU or GPU \n",
        "device= torch.device(\"cuda\")\n",
        "# device= torch.device(\"cpu\")\n",
        "print(device)"
      ],
      "metadata": {
        "colab": {
          "base_uri": "https://localhost:8080/"
        },
        "id": "6tp_8oaxkXIA",
        "outputId": "595b1121-bb11-4a3b-cf96-d49fbf065d66"
      },
      "execution_count": null,
      "outputs": [
        {
          "output_type": "stream",
          "name": "stdout",
          "text": [
            "cuda\n"
          ]
        }
      ]
    },
    {
      "cell_type": "code",
      "source": [
        "from google.colab import drive\n",
        "drive.mount('/content/drive')"
      ],
      "metadata": {
        "colab": {
          "base_uri": "https://localhost:8080/"
        },
        "id": "KIbuEvql_5hU",
        "outputId": "6b986d40-2279-4ccf-d627-994df8a1671d"
      },
      "execution_count": null,
      "outputs": [
        {
          "output_type": "stream",
          "name": "stdout",
          "text": [
            "Mounted at /content/drive\n"
          ]
        }
      ]
    },
    {
      "cell_type": "code",
      "source": [
        "!nvidia-smi"
      ],
      "metadata": {
        "id": "-FDq6gFNyu4e",
        "colab": {
          "base_uri": "https://localhost:8080/"
        },
        "outputId": "46daf69d-5b08-45fc-fd8d-f68deb23a129"
      },
      "execution_count": null,
      "outputs": [
        {
          "output_type": "stream",
          "name": "stdout",
          "text": [
            "Sat Jan 22 12:24:31 2022       \n",
            "+-----------------------------------------------------------------------------+\n",
            "| NVIDIA-SMI 495.46       Driver Version: 460.32.03    CUDA Version: 11.2     |\n",
            "|-------------------------------+----------------------+----------------------+\n",
            "| GPU  Name        Persistence-M| Bus-Id        Disp.A | Volatile Uncorr. ECC |\n",
            "| Fan  Temp  Perf  Pwr:Usage/Cap|         Memory-Usage | GPU-Util  Compute M. |\n",
            "|                               |                      |               MIG M. |\n",
            "|===============================+======================+======================|\n",
            "|   0  Tesla T4            Off  | 00000000:00:04.0 Off |                    0 |\n",
            "| N/A   42C    P8     9W /  70W |      0MiB / 15109MiB |      0%      Default |\n",
            "|                               |                      |                  N/A |\n",
            "+-------------------------------+----------------------+----------------------+\n",
            "                                                                               \n",
            "+-----------------------------------------------------------------------------+\n",
            "| Processes:                                                                  |\n",
            "|  GPU   GI   CI        PID   Type   Process name                  GPU Memory |\n",
            "|        ID   ID                                                   Usage      |\n",
            "|=============================================================================|\n",
            "|  No running processes found                                                 |\n",
            "+-----------------------------------------------------------------------------+\n"
          ]
        }
      ]
    },
    {
      "cell_type": "code",
      "source": [
        "# Changing Current directory to drive\n",
        "%cd '/content/drive/My Drive'"
      ],
      "metadata": {
        "colab": {
          "base_uri": "https://localhost:8080/"
        },
        "id": "yhnMkY_jCA_c",
        "outputId": "ffc4146f-1fdf-4c7f-abf7-7de90ec13d9a"
      },
      "execution_count": null,
      "outputs": [
        {
          "output_type": "stream",
          "name": "stdout",
          "text": [
            "/content/drive/My Drive\n"
          ]
        }
      ]
    },
    {
      "cell_type": "code",
      "source": [
        "# Unziping the Dataset\n",
        "!unzip -uq Dataset.zip"
      ],
      "metadata": {
        "id": "BF5FOLTlCCOT"
      },
      "execution_count": null,
      "outputs": []
    },
    {
      "cell_type": "code",
      "source": [
        "# Specifying the path of training and testing data\n",
        "train_path='./Dataset/train'\n",
        "test_path='./Dataset/test'"
      ],
      "metadata": {
        "id": "Ic2DNZjJGREg"
      },
      "execution_count": null,
      "outputs": []
    },
    {
      "cell_type": "code",
      "source": [
        "# Getting the number of classes present in the dataset\n",
        "classes=os.listdir('./Dataset/test')\n",
        "len_class=len(classes)\n",
        "len_class"
      ],
      "metadata": {
        "id": "SvtB8zSKGZqr",
        "colab": {
          "base_uri": "https://localhost:8080/"
        },
        "outputId": "7e039ea5-bbbf-4da5-a399-ce9b182166b4"
      },
      "execution_count": null,
      "outputs": [
        {
          "output_type": "execute_result",
          "data": {
            "text/plain": [
              "7"
            ]
          },
          "metadata": {},
          "execution_count": 8
        }
      ]
    },
    {
      "cell_type": "code",
      "source": [
        "# Defining train and test transform\n",
        "train_transform=transforms.Compose([transforms.Resize((48,48)),transforms.ToTensor()])\n",
        "test_transform=transforms.Compose([transforms.Resize((48,48)),transforms.ToTensor()])"
      ],
      "metadata": {
        "id": "F2G-G9ZzGgT3"
      },
      "execution_count": null,
      "outputs": []
    },
    {
      "cell_type": "code",
      "source": [
        "# Getting train and test data after applying transform\n",
        "train_data=torchvision.datasets.ImageFolder(root=train_path,transform=train_transform)\n",
        "test_data=torchvision.datasets.ImageFolder(root=test_path,transform=test_transform)"
      ],
      "metadata": {
        "id": "LzQZ-FMwGkDx"
      },
      "execution_count": null,
      "outputs": []
    },
    {
      "cell_type": "code",
      "source": [
        "# Coverting train_data to train_loader\n",
        "train_load=torch.utils.data.DataLoader(train_data,batch_size=32,shuffle=True)\n",
        "test_load=torch.utils.data.DataLoader(test_data,batch_size=32,shuffle=False)"
      ],
      "metadata": {
        "id": "8xz-6Cy_Gnit"
      },
      "execution_count": null,
      "outputs": []
    },
    {
      "cell_type": "code",
      "source": [
        "# CNN class\n",
        "class convnet(nn.Module):\n",
        "\n",
        "    def __init__(self):\n",
        "\n",
        "        super(convnet, self).__init__()\n",
        "\n",
        "        # block 1:         3 x 48 x 48 --> 96 x 24 x 24        \n",
        "        self.conv1a = nn.Conv2d(3,   96,  kernel_size=3, padding=1 )\n",
        "        self.conv1b = nn.Conv2d(96,  96,  kernel_size=3, padding=1 )\n",
        "        self.pool1  = nn.MaxPool2d(2,2)\n",
        "        # self.batch1 = nn.BatchNorm2d(96)\n",
        "\n",
        "        # block 2:         96 x 24 x 24  --> 192 x 12 x 12\n",
        "        self.conv2a = nn.Conv2d(96,  192, kernel_size=3, padding=1 )\n",
        "        self.conv2b = nn.Conv2d(192, 192, kernel_size=3, padding=1 )\n",
        "        self.pool2  = nn.MaxPool2d(2,2)\n",
        "\n",
        "        # block 3:         192 x 12 x 12 --> 384 x 6 x 6       \n",
        "        self.conv3a = nn.Conv2d(192, 384, kernel_size=3, padding=1 )\n",
        "        self.conv3b = nn.Conv2d(384, 384, kernel_size=3, padding=1 )\n",
        "        self.pool3  = nn.MaxPool2d(2,2)\n",
        "        \n",
        "        #block 4:          384 x 6 x 6--> 768 3 x 3\n",
        "        self.conv4a = nn.Conv2d(384, 384*2, kernel_size=3, padding=1 )\n",
        "        self.pool4  = nn.MaxPool2d(2,2)\n",
        "\n",
        "        # linear layers:   768 x 3 x 3 --> 768*3*3*2 --> 768*3*3*2 --> 768*3*3*2 --> 7\n",
        "        self.linear1 = nn.Linear(768*3*3, 768*3*3*2)\n",
        "        self.linear2 = nn.Linear(768*3*3*2,768*3*3*2)\n",
        "        self.linear3 = nn.Linear(768*3*3*2, 7)\n",
        "\n",
        "        self.dropout=nn.Dropout(0.5)\n",
        "\n",
        "        # self.batch2 = nn.BatchNorm1d(768*3*3*2)\n",
        "\n",
        "    def forward(self, x):\n",
        "\n",
        "        # block 1:          3 x 48 x 48 --> 96 x 24 x 24 \n",
        "        x = self.conv1a(x)\n",
        "        x = torch.relu(x)\n",
        "        x = self.conv1b(x)\n",
        "        x = torch.relu(x)\n",
        "        x = self.pool1(x)\n",
        "        # x = self.batch1(x)\n",
        "\n",
        "        # block 2:         96 x 24 x 24  --> 192 x 12 x 12\n",
        "        x = self.conv2a(x)\n",
        "        x = torch.relu(x)\n",
        "        x = self.conv2b(x)\n",
        "        x = torch.relu(x)\n",
        "        x = self.pool2(x)\n",
        "\n",
        "        # block 3:         192 x 12 x 12 --> 384 x 6 x 6 \n",
        "        x = self.conv3a(x)\n",
        "        x = torch.relu(x)\n",
        "        x = self.conv3b(x)\n",
        "        x = torch.relu(x)\n",
        "        x = self.pool3(x)\n",
        "\n",
        "        #block 4:          384 x 6 x 6--> 768 3 x 3\n",
        "        x = self.conv4a(x)\n",
        "        x = torch.relu(x)\n",
        "        x = self.pool4(x)\n",
        "\n",
        "        # linear layers:   768 x 3 x 3 --> 768*3*3*2 --> 768*3*3*2 --> 768*3*3*2 --> 7\n",
        "        x = x.view(-1, 768*3*3)\n",
        "        x = self.linear1(x)\n",
        "        x = torch.relu(x)\n",
        "        # x = self.batch2(x)\n",
        "        x = self.linear2(x)\n",
        "        x = torch.relu(x)\n",
        "        x = self.dropout(x)\n",
        "        x = self.linear3(x) \n",
        "        \n",
        "        return x"
      ],
      "metadata": {
        "id": "QAH2HXM0Gue1"
      },
      "execution_count": null,
      "outputs": []
    },
    {
      "cell_type": "code",
      "source": [
        "# Creating a model of CNN\n",
        "net=convnet()\n",
        "\n",
        "print(net)\n",
        "\n",
        "# Loading model to device\n",
        "net = net.to(device)"
      ],
      "metadata": {
        "colab": {
          "base_uri": "https://localhost:8080/"
        },
        "id": "916NBgAVG1hl",
        "outputId": "f0c2e6d5-d129-4beb-dbdf-7610f7bc1b66"
      },
      "execution_count": null,
      "outputs": [
        {
          "output_type": "stream",
          "name": "stdout",
          "text": [
            "convnet(\n",
            "  (conv1a): Conv2d(3, 96, kernel_size=(3, 3), stride=(1, 1), padding=(1, 1))\n",
            "  (conv1b): Conv2d(96, 96, kernel_size=(3, 3), stride=(1, 1), padding=(1, 1))\n",
            "  (pool1): MaxPool2d(kernel_size=2, stride=2, padding=0, dilation=1, ceil_mode=False)\n",
            "  (conv2a): Conv2d(96, 192, kernel_size=(3, 3), stride=(1, 1), padding=(1, 1))\n",
            "  (conv2b): Conv2d(192, 192, kernel_size=(3, 3), stride=(1, 1), padding=(1, 1))\n",
            "  (pool2): MaxPool2d(kernel_size=2, stride=2, padding=0, dilation=1, ceil_mode=False)\n",
            "  (conv3a): Conv2d(192, 384, kernel_size=(3, 3), stride=(1, 1), padding=(1, 1))\n",
            "  (conv3b): Conv2d(384, 384, kernel_size=(3, 3), stride=(1, 1), padding=(1, 1))\n",
            "  (pool3): MaxPool2d(kernel_size=2, stride=2, padding=0, dilation=1, ceil_mode=False)\n",
            "  (conv4a): Conv2d(384, 768, kernel_size=(3, 3), stride=(1, 1), padding=(1, 1))\n",
            "  (pool4): MaxPool2d(kernel_size=2, stride=2, padding=0, dilation=1, ceil_mode=False)\n",
            "  (linear1): Linear(in_features=6912, out_features=13824, bias=True)\n",
            "  (linear2): Linear(in_features=13824, out_features=13824, bias=True)\n",
            "  (linear3): Linear(in_features=13824, out_features=7, bias=True)\n",
            "  (dropout): Dropout(p=0.5, inplace=False)\n",
            ")\n"
          ]
        }
      ]
    },
    {
      "cell_type": "code",
      "source": [
        "# Initializing CrossEntropyLoss and values for the learning rate and Batch size\n",
        "criterion = nn.CrossEntropyLoss()\n",
        "my_lr=0.25\n",
        "bs= 128"
      ],
      "metadata": {
        "id": "RJdZjAcwJlfQ"
      },
      "execution_count": null,
      "outputs": []
    },
    {
      "cell_type": "code",
      "source": [
        "# Getting count of the number of training and testing data\n",
        "train_count=len(glob.glob(train_path+'/**/*.jpg'))\n",
        "test_count=len(glob.glob(test_path+'/**/*.jpg'))\n",
        "print(train_count,test_count)"
      ],
      "metadata": {
        "id": "ZG14e4VkaF8H",
        "colab": {
          "base_uri": "https://localhost:8080/"
        },
        "outputId": "cddf03a9-b153-4673-d9f3-47202816b769"
      },
      "execution_count": null,
      "outputs": [
        {
          "output_type": "stream",
          "name": "stdout",
          "text": [
            "28709 7178\n"
          ]
        }
      ]
    },
    {
      "cell_type": "code",
      "source": [
        "# Training the CNN model with training data and Evaluating the accuracy of the model\n",
        "max_acc=[]\n",
        "\n",
        "for epoch in range(1,20):\n",
        "    \n",
        "    # divide the learning rate by 2 at epoch 5,10 and 15\n",
        "    if epoch % 5==0 :\n",
        "        my_lr = my_lr / 2\n",
        "    \n",
        "    net.train()\n",
        "    \n",
        "    # set the running quatities to zero at the beginning of the epoch\n",
        "    train_acc=0.0\n",
        "    train_loss=0.0\n",
        "    \n",
        "    optimizer=torch.optim.SGD( net.parameters() , lr=my_lr )\n",
        "\n",
        "    for i , (images,labels) in enumerate(train_load):\n",
        "\n",
        "      if torch.cuda.is_available():\n",
        "        images=Variable(images.cuda())\n",
        "        labels=Variable(labels.cuda())\n",
        "    \n",
        "      # Set the gradients to zeros\n",
        "      optimizer.zero_grad()\n",
        "        \n",
        "      output=net(images)\n",
        "      loss=criterion(output,labels)\n",
        "      loss.backward()\n",
        "      optimizer.step()\n",
        "\n",
        "      train_loss+=loss.cpu().data*images.size(0)\n",
        "      _,prediction=torch.max(output.data,1)\n",
        "\n",
        "      train_acc+=int(torch.sum(prediction==labels.data))\n",
        "    \n",
        "    train_acc=train_acc/train_count\n",
        "    train_loss=train_loss/train_count\n",
        "       \n",
        "\n",
        "    net.eval()\n",
        "\n",
        "    test_acc=0.0\n",
        " \n",
        "    for i , (images,labels) in enumerate(test_load):\n",
        "\n",
        "      if torch.cuda.is_available():\n",
        "        images=Variable(images.cuda())\n",
        "        labels=Variable(labels.cuda())\n",
        "        \n",
        "      output=net(images)\n",
        "\n",
        "      _,prediction=torch.max(output.data,1)\n",
        "\n",
        "      test_acc+=int(torch.sum(prediction==labels.data))\n",
        "\n",
        "    test_acc=test_acc/test_count\n",
        "\n",
        "    max_acc.append(test_acc)\n",
        "\n",
        "    print('Epoch:'+str(epoch)+'  Train loss:'+str(train_loss)+'  Train Accuracy:'+str(train_acc)+ '  Test Accuracy:'+str(test_acc))\n",
        "\n",
        "    if epoch%10 == 0:\n",
        "      print(\"\\nTest Accuracy after \"+str(epoch)+\" epoch \"+str(max(max_acc))+\"\\n\")"
      ],
      "metadata": {
        "id": "10MHsm9nJQSg",
        "colab": {
          "base_uri": "https://localhost:8080/"
        },
        "outputId": "145b34ae-f355-477f-96dd-03757d3bca86"
      },
      "execution_count": null,
      "outputs": [
        {
          "output_type": "stream",
          "name": "stdout",
          "text": [
            "Epoch:1  Train loss:tensor(1.8130)  Train Accuracy:0.24964296910376538  Test Accuracy:0.2550849818891056\n",
            "Epoch:2  Train loss:tensor(1.7372)  Train Accuracy:0.291755198718172  Test Accuracy:0.24714405126776262\n",
            "Epoch:3  Train loss:tensor(1.5156)  Train Accuracy:0.40384548399456616  Test Accuracy:0.4322931178601282\n",
            "Epoch:4  Train loss:tensor(1.3597)  Train Accuracy:0.474868508133338  Test Accuracy:0.2672053496795765\n",
            "Epoch:5  Train loss:tensor(1.2468)  Train Accuracy:0.5205336305688112  Test Accuracy:0.47353023126219\n",
            "Epoch:6  Train loss:tensor(1.1315)  Train Accuracy:0.5707966143021352  Test Accuracy:0.49373084424630814\n",
            "Epoch:7  Train loss:tensor(1.0253)  Train Accuracy:0.6100874290292243  Test Accuracy:0.4233769852326553\n",
            "Epoch:8  Train loss:tensor(0.9256)  Train Accuracy:0.6517120066877983  Test Accuracy:0.5536361103371412\n",
            "Epoch:9  Train loss:tensor(0.8069)  Train Accuracy:0.6997805566198753  Test Accuracy:0.5353859013652829\n",
            "Epoch:10  Train loss:tensor(0.4270)  Train Accuracy:0.8448570134800933  Test Accuracy:0.5802451936472555\n",
            "\n",
            "Test Accuracy after 10 epoch 0.5802451936472555\n",
            "\n",
            "Epoch:11  Train loss:tensor(0.2336)  Train Accuracy:0.9184227942457069  Test Accuracy:0.5660351072722207\n",
            "Epoch:12  Train loss:tensor(0.1794)  Train Accuracy:0.9378940401964541  Test Accuracy:0.5918083031485093\n",
            "Epoch:13  Train loss:tensor(0.1553)  Train Accuracy:0.9480650667038211  Test Accuracy:0.5888826971301198\n",
            "Epoch:14  Train loss:tensor(0.1148)  Train Accuracy:0.9621373088578494  Test Accuracy:0.5976595151852884\n",
            "Epoch:15  Train loss:tensor(0.1115)  Train Accuracy:0.963635097007907  Test Accuracy:0.591111730286988\n",
            "Epoch:16  Train loss:tensor(0.1008)  Train Accuracy:0.9668744992859382  Test Accuracy:0.585260518250209\n",
            "Epoch:17  Train loss:tensor(0.0929)  Train Accuracy:0.9692779267825421  Test Accuracy:0.5569796600724436\n",
            "Epoch:18  Train loss:tensor(0.0830)  Train Accuracy:0.9732139747117629  Test Accuracy:0.589997213708554\n",
            "Epoch:19  Train loss:tensor(0.0722)  Train Accuracy:0.9770455257933053  Test Accuracy:0.5849818891056004\n"
          ]
        }
      ]
    },
    {
      "cell_type": "code",
      "source": [
        ""
      ],
      "metadata": {
        "id": "6APICi6jVzxu"
      },
      "execution_count": null,
      "outputs": []
    }
  ]
}