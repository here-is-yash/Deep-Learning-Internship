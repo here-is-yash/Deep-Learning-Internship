{
  "cells": [
    {
      "cell_type": "code",
      "execution_count": null,
      "metadata": {
        "id": "Whe3JNfKkP1c"
      },
      "outputs": [],
      "source": [
        "# Importing Required Libraries\n",
        "import torchvision\n",
        "import torch\n",
        "import torchvision.transforms as transforms\n",
        "import os\n",
        "import matplotlib.pyplot as plt\n",
        "import numpy\n",
        "import torch.nn as nn\n",
        "import torch.optim as optim\n",
        "from random import randint\n",
        "import time\n",
        "import glob\n",
        "from torch.autograd import Variable"
      ]
    },
    {
      "cell_type": "code",
      "execution_count": null,
      "metadata": {
        "colab": {
          "base_uri": "https://localhost:8080/"
        },
        "id": "6tp_8oaxkXIA",
        "outputId": "226f4c6a-4d67-4ea6-b1b6-a1006fce444a"
      },
      "outputs": [
        {
          "name": "stdout",
          "output_type": "stream",
          "text": [
            "cuda\n"
          ]
        }
      ],
      "source": [
        "# Selcting Device CPU or GPU \n",
        "device= torch.device(\"cuda\")\n",
        "# device= torch.device(\"cpu\")\n",
        "print(device)"
      ]
    },
    {
      "cell_type": "code",
      "execution_count": null,
      "metadata": {
        "colab": {
          "base_uri": "https://localhost:8080/"
        },
        "id": "KIbuEvql_5hU",
        "outputId": "0a2799d9-796a-40a3-b0f3-8aba2af28e3f"
      },
      "outputs": [
        {
          "name": "stdout",
          "output_type": "stream",
          "text": [
            "Mounted at /content/drive\n"
          ]
        }
      ],
      "source": [
        "from google.colab import drive\n",
        "drive.mount('/content/drive')"
      ]
    },
    {
      "cell_type": "code",
      "execution_count": null,
      "metadata": {
        "colab": {
          "base_uri": "https://localhost:8080/"
        },
        "id": "-FDq6gFNyu4e",
        "outputId": "a7702b28-1d7f-463a-c9ae-2f194647108d"
      },
      "outputs": [
        {
          "name": "stdout",
          "output_type": "stream",
          "text": [
            "Sat Jan 22 06:22:47 2022       \n",
            "+-----------------------------------------------------------------------------+\n",
            "| NVIDIA-SMI 495.46       Driver Version: 460.32.03    CUDA Version: 11.2     |\n",
            "|-------------------------------+----------------------+----------------------+\n",
            "| GPU  Name        Persistence-M| Bus-Id        Disp.A | Volatile Uncorr. ECC |\n",
            "| Fan  Temp  Perf  Pwr:Usage/Cap|         Memory-Usage | GPU-Util  Compute M. |\n",
            "|                               |                      |               MIG M. |\n",
            "|===============================+======================+======================|\n",
            "|   0  Tesla T4            Off  | 00000000:00:04.0 Off |                    0 |\n",
            "| N/A   35C    P8     9W /  70W |      0MiB / 15109MiB |      0%      Default |\n",
            "|                               |                      |                  N/A |\n",
            "+-------------------------------+----------------------+----------------------+\n",
            "                                                                               \n",
            "+-----------------------------------------------------------------------------+\n",
            "| Processes:                                                                  |\n",
            "|  GPU   GI   CI        PID   Type   Process name                  GPU Memory |\n",
            "|        ID   ID                                                   Usage      |\n",
            "|=============================================================================|\n",
            "|  No running processes found                                                 |\n",
            "+-----------------------------------------------------------------------------+\n"
          ]
        }
      ],
      "source": [
        "!nvidia-smi"
      ]
    },
    {
      "cell_type": "code",
      "execution_count": null,
      "metadata": {
        "colab": {
          "base_uri": "https://localhost:8080/"
        },
        "id": "yhnMkY_jCA_c",
        "outputId": "632938fd-1873-4365-9cfd-f9b751a8f9ed"
      },
      "outputs": [
        {
          "name": "stdout",
          "output_type": "stream",
          "text": [
            "/content/drive/My Drive\n"
          ]
        }
      ],
      "source": [
        "# Changing Current directory to drive\n",
        "%cd '/content/drive/My Drive'"
      ]
    },
    {
      "cell_type": "code",
      "execution_count": null,
      "metadata": {
        "id": "BF5FOLTlCCOT"
      },
      "outputs": [],
      "source": [
        "# # Unziping the Dataset\n",
        "# !unzip -uq Dataset.zip"
      ]
    },
    {
      "cell_type": "code",
      "execution_count": null,
      "metadata": {
        "id": "Ic2DNZjJGREg"
      },
      "outputs": [],
      "source": [
        "# Specifying the path of training and testing data\n",
        "train_path='./Component2_data/train'\n",
        "test_path='./Component2_data/test'"
      ]
    },
    {
      "cell_type": "code",
      "execution_count": null,
      "metadata": {
        "colab": {
          "base_uri": "https://localhost:8080/"
        },
        "id": "SvtB8zSKGZqr",
        "outputId": "3ce76ca4-e29d-40d6-9344-1f1f1093d4a5"
      },
      "outputs": [
        {
          "data": {
            "text/plain": [
              "3"
            ]
          },
          "execution_count": 8,
          "metadata": {},
          "output_type": "execute_result"
        }
      ],
      "source": [
        "# Getting the number of classes present in the dataset\n",
        "classes=os.listdir('./Component2_data/test')\n",
        "len_class=len(classes)\n",
        "len_class"
      ]
    },
    {
      "cell_type": "code",
      "execution_count": null,
      "metadata": {
        "id": "F2G-G9ZzGgT3"
      },
      "outputs": [],
      "source": [
        "# Defining train and test transform\n",
        "train_transform=transforms.Compose([transforms.Resize((48,48)),transforms.RandomHorizontalFlip(),transforms.ToTensor()])\n",
        "test_transform=transforms.Compose([transforms.Resize((48,48)),transforms.RandomHorizontalFlip(),transforms.ToTensor()])"
      ]
    },
    {
      "cell_type": "code",
      "execution_count": null,
      "metadata": {
        "id": "LzQZ-FMwGkDx"
      },
      "outputs": [],
      "source": [
        "# Getting train and test data after applying transform\n",
        "train_data=torchvision.datasets.ImageFolder(root=train_path,transform=train_transform)\n",
        "test_data=torchvision.datasets.ImageFolder(root=test_path,transform=test_transform)"
      ]
    },
    {
      "cell_type": "code",
      "execution_count": null,
      "metadata": {
        "id": "8xz-6Cy_Gnit"
      },
      "outputs": [],
      "source": [
        "# Coverting train_data to train_loader\n",
        "train_load=torch.utils.data.DataLoader(train_data,batch_size=32,shuffle=True)\n",
        "test_load=torch.utils.data.DataLoader(test_data,batch_size=32,shuffle=False)"
      ]
    },
    {
      "cell_type": "code",
      "execution_count": null,
      "metadata": {
        "id": "QAH2HXM0Gue1"
      },
      "outputs": [],
      "source": [
        "# CNN class\n",
        "class convnet(nn.Module):\n",
        "\n",
        "    def __init__(self):\n",
        "\n",
        "        super(convnet, self).__init__()\n",
        "\n",
        "        # block 1:         3 x 48 x 48 --> 96 x 24 x 24        \n",
        "        self.conv1a = nn.Conv2d(3,   96,  kernel_size=3, padding=1 )\n",
        "        self.conv1b = nn.Conv2d(96,  96,  kernel_size=3, padding=1 )\n",
        "        self.pool1  = nn.MaxPool2d(2,2)\n",
        "        # self.batch1 = nn.BatchNorm2d(96)\n",
        "\n",
        "        # block 2:         96 x 24 x 24  --> 192 x 12 x 12\n",
        "        self.conv2a = nn.Conv2d(96,  192, kernel_size=3, padding=1 )\n",
        "        self.conv2b = nn.Conv2d(192, 192, kernel_size=3, padding=1 )\n",
        "        self.pool2  = nn.MaxPool2d(2,2)\n",
        "\n",
        "        # block 3:         192 x 12 x 12 --> 384 x 6 x 6       \n",
        "        self.conv3a = nn.Conv2d(192, 384, kernel_size=3, padding=1 )\n",
        "        self.conv3b = nn.Conv2d(384, 384, kernel_size=3, padding=1 )\n",
        "        self.pool3  = nn.MaxPool2d(2,2)\n",
        "        \n",
        "        #block 4:          384 x 6 x 6--> 768 3 x 3\n",
        "        self.conv4a = nn.Conv2d(384, 384*2, kernel_size=3, padding=1 )\n",
        "        self.pool4  = nn.MaxPool2d(2,2)\n",
        "\n",
        "        # linear layers:   768 x 3 x 3 --> 768*3*3*2 --> 768*3*3*2 --> 768*3*3*2 --> 3\n",
        "        self.linear1 = nn.Linear(768*3*3, 768*3*3*2)\n",
        "        self.linear2 = nn.Linear(768*3*3*2,768*3*3*2)\n",
        "        self.linear3 = nn.Linear(768*3*3*2, 3)\n",
        "\n",
        "        self.dropout=nn.Dropout(0.5)\n",
        "\n",
        "        # self.batch2 = nn.BatchNorm1d(768*3*3*2)\n",
        "\n",
        "    def forward(self, x):\n",
        "\n",
        "        # block 1:          3 x 48 x 48 --> 96 x 24 x 24 \n",
        "        x = self.conv1a(x)\n",
        "        x = torch.relu(x)\n",
        "        x = self.conv1b(x)\n",
        "        x = torch.relu(x)\n",
        "        x = self.pool1(x)\n",
        "        # x = self.batch1(x)\n",
        "\n",
        "        # block 2:         96 x 24 x 24  --> 192 x 12 x 12\n",
        "        x = self.conv2a(x)\n",
        "        x = torch.relu(x)\n",
        "        x = self.conv2b(x)\n",
        "        x = torch.relu(x)\n",
        "        x = self.pool2(x)\n",
        "\n",
        "        # block 3:         192 x 12 x 12 --> 384 x 6 x 6 \n",
        "        x = self.conv3a(x)\n",
        "        x = torch.relu(x)\n",
        "        x = self.conv3b(x)\n",
        "        x = torch.relu(x)\n",
        "        x = self.pool3(x)\n",
        "\n",
        "        #block 4:          384 x 6 x 6--> 768 3 x 3\n",
        "        x = self.conv4a(x)\n",
        "        x = torch.relu(x)\n",
        "        x = self.pool4(x)\n",
        "\n",
        "        # linear layers:   768 x 3 x 3 --> 768*3*3*2 --> 768*3*3*2 --> 768*3*3*2 --> 3\n",
        "        x = x.view(-1, 768*3*3)\n",
        "        x = self.linear1(x)\n",
        "        x = torch.relu(x)\n",
        "        # x = self.batch2(x)\n",
        "        x = self.linear2(x)\n",
        "        x = torch.relu(x)\n",
        "        x = self.dropout(x)\n",
        "        x = self.linear3(x) \n",
        "        \n",
        "        return x"
      ]
    },
    {
      "cell_type": "code",
      "execution_count": null,
      "metadata": {
        "colab": {
          "base_uri": "https://localhost:8080/"
        },
        "id": "916NBgAVG1hl",
        "outputId": "368f0751-1fa7-4d13-de7c-1fc74906d365"
      },
      "outputs": [
        {
          "name": "stdout",
          "output_type": "stream",
          "text": [
            "convnet(\n",
            "  (conv1a): Conv2d(3, 96, kernel_size=(3, 3), stride=(1, 1), padding=(1, 1))\n",
            "  (conv1b): Conv2d(96, 96, kernel_size=(3, 3), stride=(1, 1), padding=(1, 1))\n",
            "  (pool1): MaxPool2d(kernel_size=2, stride=2, padding=0, dilation=1, ceil_mode=False)\n",
            "  (conv2a): Conv2d(96, 192, kernel_size=(3, 3), stride=(1, 1), padding=(1, 1))\n",
            "  (conv2b): Conv2d(192, 192, kernel_size=(3, 3), stride=(1, 1), padding=(1, 1))\n",
            "  (pool2): MaxPool2d(kernel_size=2, stride=2, padding=0, dilation=1, ceil_mode=False)\n",
            "  (conv3a): Conv2d(192, 384, kernel_size=(3, 3), stride=(1, 1), padding=(1, 1))\n",
            "  (conv3b): Conv2d(384, 384, kernel_size=(3, 3), stride=(1, 1), padding=(1, 1))\n",
            "  (pool3): MaxPool2d(kernel_size=2, stride=2, padding=0, dilation=1, ceil_mode=False)\n",
            "  (conv4a): Conv2d(384, 768, kernel_size=(3, 3), stride=(1, 1), padding=(1, 1))\n",
            "  (pool4): MaxPool2d(kernel_size=2, stride=2, padding=0, dilation=1, ceil_mode=False)\n",
            "  (linear1): Linear(in_features=6912, out_features=13824, bias=True)\n",
            "  (linear2): Linear(in_features=13824, out_features=13824, bias=True)\n",
            "  (linear3): Linear(in_features=13824, out_features=3, bias=True)\n",
            "  (dropout): Dropout(p=0.5, inplace=False)\n",
            ")\n"
          ]
        }
      ],
      "source": [
        "# Creating a model of CNN\n",
        "net=convnet()\n",
        "\n",
        "print(net)\n",
        "\n",
        "# Loading model to device\n",
        "net = net.to(device)"
      ]
    },
    {
      "cell_type": "code",
      "execution_count": null,
      "metadata": {
        "id": "RJdZjAcwJlfQ"
      },
      "outputs": [],
      "source": [
        "# Initializing CrossEntropyLoss and values for the learning rate and Batch size\n",
        "criterion = nn.CrossEntropyLoss()\n",
        "my_lr=0.25\n",
        "bs= 30"
      ]
    },
    {
      "cell_type": "code",
      "execution_count": null,
      "metadata": {
        "colab": {
          "base_uri": "https://localhost:8080/"
        },
        "id": "ZG14e4VkaF8H",
        "outputId": "02c09b97-d2d2-4ae5-c52d-41ddde2ad9be"
      },
      "outputs": [
        {
          "name": "stdout",
          "output_type": "stream",
          "text": [
            "321 99\n"
          ]
        }
      ],
      "source": [
        "# Getting count of the number of training and testing data\n",
        "train_count=len(glob.glob(train_path+'/**/*.jpg'))\n",
        "test_count=len(glob.glob(test_path+'/**/*.jpg'))\n",
        "print(train_count,test_count)"
      ]
    },
    {
      "cell_type": "code",
      "execution_count": null,
      "metadata": {
        "colab": {
          "background_save": true,
          "base_uri": "https://localhost:8080/"
        },
        "id": "10MHsm9nJQSg",
        "outputId": "0a1efb93-f566-4669-8f63-f97312626d3c"
      },
      "outputs": [
        {
          "name": "stdout",
          "output_type": "stream",
          "text": [
            "Epoch:1  Train loss:tensor(1.1011)  Train Accuracy:0.2897196261682243  Test Accuracy:0.35353535353535354\n",
            "Epoch:2  Train loss:tensor(1.1093)  Train Accuracy:0.35202492211838005  Test Accuracy:0.30303030303030304\n",
            "Epoch:3  Train loss:tensor(1.1075)  Train Accuracy:0.308411214953271  Test Accuracy:0.35353535353535354\n",
            "Epoch:4  Train loss:tensor(1.1073)  Train Accuracy:0.35202492211838005  Test Accuracy:0.3434343434343434\n",
            "Epoch:5  Train loss:tensor(1.1058)  Train Accuracy:0.30218068535825543  Test Accuracy:0.35353535353535354\n",
            "Epoch:6  Train loss:tensor(1.1062)  Train Accuracy:0.32710280373831774  Test Accuracy:0.35353535353535354\n",
            "Epoch:7  Train loss:tensor(1.1090)  Train Accuracy:0.35202492211838005  Test Accuracy:0.3434343434343434\n",
            "Epoch:8  Train loss:tensor(1.1061)  Train Accuracy:0.3177570093457944  Test Accuracy:0.30303030303030304\n",
            "Epoch:9  Train loss:tensor(1.1028)  Train Accuracy:0.3302180685358255  Test Accuracy:0.35353535353535354\n",
            "Epoch:10  Train loss:tensor(1.1067)  Train Accuracy:0.35202492211838005  Test Accuracy:0.35353535353535354\n",
            "\n",
            "Test Accuracy after 10 epoch 0.35353535353535354\n",
            "\n",
            "Epoch:11  Train loss:tensor(1.1060)  Train Accuracy:0.35202492211838005  Test Accuracy:0.35353535353535354\n",
            "Epoch:12  Train loss:tensor(1.1017)  Train Accuracy:0.35202492211838005  Test Accuracy:0.30303030303030304\n",
            "Epoch:13  Train loss:tensor(1.1028)  Train Accuracy:0.3115264797507788  Test Accuracy:0.3434343434343434\n",
            "Epoch:14  Train loss:tensor(1.0998)  Train Accuracy:0.3302180685358255  Test Accuracy:0.30303030303030304\n",
            "Epoch:15  Train loss:tensor(1.1022)  Train Accuracy:0.3177570093457944  Test Accuracy:0.35353535353535354\n",
            "Epoch:16  Train loss:tensor(1.1004)  Train Accuracy:0.35202492211838005  Test Accuracy:0.30303030303030304\n",
            "Epoch:17  Train loss:tensor(1.1022)  Train Accuracy:0.3395638629283489  Test Accuracy:0.3434343434343434\n",
            "Epoch:18  Train loss:tensor(1.0999)  Train Accuracy:0.3177570093457944  Test Accuracy:0.3434343434343434\n",
            "Epoch:19  Train loss:tensor(1.1028)  Train Accuracy:0.3302180685358255  Test Accuracy:0.3434343434343434\n",
            "Epoch:20  Train loss:tensor(1.1050)  Train Accuracy:0.3302180685358255  Test Accuracy:0.3434343434343434\n",
            "\n",
            "Test Accuracy after 20 epoch 0.35353535353535354\n",
            "\n",
            "Epoch:21  Train loss:tensor(1.1044)  Train Accuracy:0.3302180685358255  Test Accuracy:0.3434343434343434\n",
            "Epoch:22  Train loss:tensor(1.1016)  Train Accuracy:0.3302180685358255  Test Accuracy:0.3434343434343434\n",
            "Epoch:23  Train loss:tensor(1.1007)  Train Accuracy:0.32087227414330216  Test Accuracy:0.35353535353535354\n",
            "Epoch:24  Train loss:tensor(1.0986)  Train Accuracy:0.35202492211838005  Test Accuracy:0.30303030303030304\n",
            "Epoch:25  Train loss:tensor(1.0995)  Train Accuracy:0.32398753894080995  Test Accuracy:0.3434343434343434\n",
            "Epoch:26  Train loss:tensor(1.0991)  Train Accuracy:0.32398753894080995  Test Accuracy:0.3434343434343434\n",
            "Epoch:27  Train loss:tensor(1.0997)  Train Accuracy:0.3302180685358255  Test Accuracy:0.35353535353535354\n",
            "Epoch:28  Train loss:tensor(1.0988)  Train Accuracy:0.3644859813084112  Test Accuracy:0.35353535353535354\n",
            "Epoch:29  Train loss:tensor(1.0994)  Train Accuracy:0.34579439252336447  Test Accuracy:0.3434343434343434\n",
            "Epoch:30  Train loss:tensor(1.0993)  Train Accuracy:0.3302180685358255  Test Accuracy:0.35353535353535354\n",
            "\n",
            "Test Accuracy after 30 epoch 0.35353535353535354\n",
            "\n",
            "Epoch:31  Train loss:tensor(1.0985)  Train Accuracy:0.34890965732087226  Test Accuracy:0.3434343434343434\n",
            "Epoch:32  Train loss:tensor(1.0986)  Train Accuracy:0.3302180685358255  Test Accuracy:0.3434343434343434\n",
            "Epoch:33  Train loss:tensor(1.0998)  Train Accuracy:0.3302180685358255  Test Accuracy:0.35353535353535354\n",
            "Epoch:34  Train loss:tensor(1.0982)  Train Accuracy:0.35202492211838005  Test Accuracy:0.3434343434343434\n",
            "Epoch:35  Train loss:tensor(1.0987)  Train Accuracy:0.3395638629283489  Test Accuracy:0.3434343434343434\n",
            "Epoch:36  Train loss:tensor(1.0979)  Train Accuracy:0.3395638629283489  Test Accuracy:0.35353535353535354\n",
            "Epoch:37  Train loss:tensor(1.0983)  Train Accuracy:0.35202492211838005  Test Accuracy:0.35353535353535354\n",
            "Epoch:38  Train loss:tensor(1.0990)  Train Accuracy:0.34890965732087226  Test Accuracy:0.35353535353535354\n",
            "Epoch:39  Train loss:tensor(1.0981)  Train Accuracy:0.35514018691588783  Test Accuracy:0.35353535353535354\n",
            "Epoch:40  Train loss:tensor(1.0981)  Train Accuracy:0.35514018691588783  Test Accuracy:0.35353535353535354\n",
            "\n",
            "Test Accuracy after 40 epoch 0.35353535353535354\n",
            "\n",
            "Epoch:41  Train loss:tensor(1.0981)  Train Accuracy:0.35202492211838005  Test Accuracy:0.35353535353535354\n",
            "Epoch:42  Train loss:tensor(1.0982)  Train Accuracy:0.3333333333333333  Test Accuracy:0.35353535353535354\n",
            "Epoch:43  Train loss:tensor(1.0985)  Train Accuracy:0.3613707165109034  Test Accuracy:0.3434343434343434\n",
            "Epoch:44  Train loss:tensor(1.0983)  Train Accuracy:0.35202492211838005  Test Accuracy:0.3434343434343434\n",
            "Epoch:45  Train loss:tensor(1.0987)  Train Accuracy:0.3302180685358255  Test Accuracy:0.35353535353535354\n",
            "Epoch:46  Train loss:tensor(1.0979)  Train Accuracy:0.3707165109034268  Test Accuracy:0.35353535353535354\n",
            "Epoch:47  Train loss:tensor(1.0983)  Train Accuracy:0.35202492211838005  Test Accuracy:0.35353535353535354\n",
            "Epoch:48  Train loss:tensor(1.0976)  Train Accuracy:0.35202492211838005  Test Accuracy:0.35353535353535354\n",
            "Epoch:49  Train loss:tensor(1.0976)  Train Accuracy:0.35202492211838005  Test Accuracy:0.35353535353535354\n"
          ]
        }
      ],
      "source": [
        "# Training the CNN model with training data and Evaluating the accuracy of the model\n",
        "max_acc=[]\n",
        "\n",
        "for epoch in range(1,50):\n",
        "    \n",
        "    # divide the learning rate by 2 at epoch 10, 14 and 18\n",
        "    if epoch % 10==0 :\n",
        "        my_lr = my_lr / 2\n",
        "    \n",
        "    net.train()\n",
        "    \n",
        "    # set the running quatities to zero at the beginning of the epoch\n",
        "    train_acc=0.0\n",
        "    train_loss=0.0\n",
        "    \n",
        "    optimizer=torch.optim.SGD( net.parameters() , lr=my_lr )\n",
        "\n",
        "    for i , (images,labels) in enumerate(train_load):\n",
        "\n",
        "      if torch.cuda.is_available():\n",
        "        images=Variable(images.cuda())\n",
        "        labels=Variable(labels.cuda())\n",
        "    \n",
        "      # Set the gradients to zeros\n",
        "      optimizer.zero_grad()\n",
        "        \n",
        "      output=net(images)\n",
        "      loss=criterion(output,labels)\n",
        "      loss.backward()\n",
        "      optimizer.step()\n",
        "\n",
        "      train_loss+=loss.cpu().data*images.size(0)\n",
        "      _,prediction=torch.max(output.data,1)\n",
        "\n",
        "      train_acc+=int(torch.sum(prediction==labels.data))\n",
        "    \n",
        "    train_acc=train_acc/train_count\n",
        "    train_loss=train_loss/train_count\n",
        "       \n",
        "\n",
        "    net.eval()\n",
        "\n",
        "    test_acc=0.0\n",
        " \n",
        "    for i , (images,labels) in enumerate(test_load):\n",
        "\n",
        "      if torch.cuda.is_available():\n",
        "        images=Variable(images.cuda())\n",
        "        labels=Variable(labels.cuda())\n",
        "        \n",
        "      output=net(images)\n",
        "\n",
        "      _,prediction=torch.max(output.data,1)\n",
        "\n",
        "      test_acc+=int(torch.sum(prediction==labels.data))\n",
        "\n",
        "    test_acc=test_acc/test_count\n",
        "\n",
        "    max_acc.append(test_acc)\n",
        "\n",
        "    print('Epoch:'+str(epoch)+'  Train loss:'+str(train_loss)+'  Train Accuracy:'+str(train_acc)+ '  Test Accuracy:'+str(test_acc))\n",
        "\n",
        "    if epoch%10 == 0:\n",
        "      print(\"\\nTest Accuracy after \"+str(epoch)+\" epoch \"+str(max(max_acc))+\"\\n\")"
      ]
    },
    {
      "cell_type": "code",
      "execution_count": null,
      "metadata": {
        "id": "LI4vB7ZDLIlW"
      },
      "outputs": [],
      "source": [
        ""
      ]
    }
  ],
  "metadata": {
    "accelerator": "GPU",
    "colab": {
      "collapsed_sections": [],
      "name": "component2_CNN.ipynb",
      "provenance": []
    },
    "kernelspec": {
      "display_name": "Python 3",
      "name": "python3"
    },
    "language_info": {
      "name": "python"
    }
  },
  "nbformat": 4,
  "nbformat_minor": 0
}